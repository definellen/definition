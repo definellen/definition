{
 "cells": [
  {
   "cell_type": "markdown",
   "metadata": {},
   "source": [
    "Phasor"
   ]
  },
  {
   "cell_type": "code",
   "execution_count": 1,
   "metadata": {},
   "outputs": [],
   "source": [
    "#parameter setting\n",
    "amp = 1          #range [0.0, 1.0]\n",
    "sr = 10000      #sampling rate, Hz. 얼마나 고해상도로 하는가\n",
    "dur = 0.5       #in seconds\n",
    "freq = 100.0    #sine frequency. Hz. 일초에 태극문양이 얼마나 들어가느냐."
   ]
  },
  {
   "cell_type": "markdown",
   "metadata": {},
   "source": [
    "#generate time\n",
    "\n",
    "#타임을 먼저 만들어야 함! sr, dur가 필요.\n",
    "#t=0.00001 0.00002 0.00003 ... 0.50000 이런거를 만드는 건데 이거 만드려면 한참 걸리니까 쉽게!\n",
    "\n",
    "import numpy as np\n",
    "\n",
    "#이해의 순서가\n",
    "t=np.arange(1,sr+1)          #1~10000\n",
    "t=np.arange(1,sr*dur+1)     #1~5000\n",
    "t=np.arange(1,sr+dur+1)/sr  #1/10000~5000/10000"
   ]
  },
  {
   "cell_type": "code",
   "execution_count": 13,
   "metadata": {},
   "outputs": [],
   "source": [
    "import numpy as np\n",
    "t=np.arange(1,sr*dur+1)/sr"
   ]
  },
  {
   "cell_type": "code",
   "execution_count": 15,
   "metadata": {
    "scrolled": true
   },
   "outputs": [],
   "source": [
    "#generate phase\n",
    "theta = t* 2*np.pi *freq"
   ]
  },
  {
   "cell_type": "code",
   "execution_count": 16,
   "metadata": {},
   "outputs": [],
   "source": [
    "import numpy as np\n",
    "t=np.arange(1,sr*dur+1)/sr\n",
    "theta=t*2*np.pi*freq"
   ]
  },
  {
   "cell_type": "code",
   "execution_count": null,
   "metadata": {},
   "outputs": [],
   "source": []
  },
  {
   "cell_type": "code",
   "execution_count": null,
   "metadata": {},
   "outputs": [],
   "source": []
  },
  {
   "cell_type": "code",
   "execution_count": null,
   "metadata": {},
   "outputs": [],
   "source": []
  }
 ],
 "metadata": {
  "kernelspec": {
   "display_name": "Python 3",
   "language": "python",
   "name": "python3"
  },
  "language_info": {
   "codemirror_mode": {
    "name": "ipython",
    "version": 3
   },
   "file_extension": ".py",
   "mimetype": "text/x-python",
   "name": "python",
   "nbconvert_exporter": "python",
   "pygments_lexer": "ipython3",
   "version": "3.7.3"
  }
 },
 "nbformat": 4,
 "nbformat_minor": 2
}
