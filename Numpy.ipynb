{
 "cells": [
  {
   "cell_type": "markdown",
   "metadata": {},
   "source": [
    "1. Creation"
   ]
  },
  {
   "cell_type": "code",
   "execution_count": 1,
   "metadata": {},
   "outputs": [],
   "source": [
    "import numpy as np\n",
    "import matplotlib.pyplot as plt"
   ]
  },
  {
   "cell_type": "code",
   "execution_count": 9,
   "metadata": {
    "scrolled": true
   },
   "outputs": [
    {
     "data": {
      "text/plain": [
       "array([[72683148,        0,        0],\n",
       "       [       0,        1,        0]])"
      ]
     },
     "execution_count": 9,
     "metadata": {},
     "output_type": "execute_result"
    }
   ],
   "source": [
    "np.empty([2,3], dtype='int')\n",
    "\n",
    "#[2,3] 2x3 2행 3열의 가로로 긴 것"
   ]
  },
  {
   "cell_type": "code",
   "execution_count": 10,
   "metadata": {},
   "outputs": [
    {
     "data": {
      "text/plain": [
       "array([[0., 0., 0.],\n",
       "       [0., 0., 0.]])"
      ]
     },
     "execution_count": 10,
     "metadata": {},
     "output_type": "execute_result"
    }
   ],
   "source": [
    "np.zeros([2,3])\n",
    "\n",
    "#0으로 채워진 행렬 리스트가 만들어짐"
   ]
  },
  {
   "cell_type": "code",
   "execution_count": 11,
   "metadata": {},
   "outputs": [
    {
     "data": {
      "text/plain": [
       "array([[0, 0, 0],\n",
       "       [0, 0, 0]])"
      ]
     },
     "execution_count": 11,
     "metadata": {},
     "output_type": "execute_result"
    }
   ],
   "source": [
    "#(0, 0, 0), (0, 0, 0) 얘를 2by3의 리스트를 만들고 싶으면\n",
    "#쟤 자체는 계산이 안 되니까 쓸모가 없음. 그래서 계산 가능한 형태로 만드는 것\n",
    "\n",
    "np.array([[0,0,0],[0,0,0]])"
   ]
  },
  {
   "cell_type": "code",
   "execution_count": 12,
   "metadata": {},
   "outputs": [
    {
     "data": {
      "text/plain": [
       "array([[1., 1., 1.],\n",
       "       [1., 1., 1.]])"
      ]
     },
     "execution_count": 12,
     "metadata": {},
     "output_type": "execute_result"
    }
   ],
   "source": [
    "np.ones([2,3])\n",
    "\n",
    "#ones, zeros의 default type은 float이니까 1. 이렇게 나올 것"
   ]
  },
  {
   "cell_type": "code",
   "execution_count": 13,
   "metadata": {},
   "outputs": [
    {
     "data": {
      "text/plain": [
       "array([[1, 1, 1],\n",
       "       [1, 1, 1]])"
      ]
     },
     "execution_count": 13,
     "metadata": {},
     "output_type": "execute_result"
    }
   ],
   "source": [
    "np.ones([2,3], dtype='int')\n",
    "\n",
    "#이러면 소수점 사라짐!"
   ]
  },
  {
   "cell_type": "code",
   "execution_count": 19,
   "metadata": {},
   "outputs": [
    {
     "data": {
      "text/plain": [
       "array([0, 1, 2, 3, 4])"
      ]
     },
     "execution_count": 19,
     "metadata": {},
     "output_type": "execute_result"
    }
   ],
   "source": [
    "np.arange(5)\n"
   ]
  },
  {
   "cell_type": "code",
   "execution_count": 20,
   "metadata": {},
   "outputs": [
    {
     "data": {
      "text/plain": [
       "array([0, 1, 2, 3, 4, 5, 6, 7, 8, 9])"
      ]
     },
     "execution_count": 20,
     "metadata": {},
     "output_type": "execute_result"
    }
   ],
   "source": [
    "np.arange(0,10)"
   ]
  },
  {
   "cell_type": "code",
   "execution_count": 23,
   "metadata": {
    "scrolled": true
   },
   "outputs": [
    {
     "data": {
      "text/plain": [
       "array([0., 2., 4., 6., 8.])"
      ]
     },
     "execution_count": 23,
     "metadata": {},
     "output_type": "execute_result"
    }
   ],
   "source": [
    "np.arange(0,10,2, dtype='float')"
   ]
  },
  {
   "cell_type": "code",
   "execution_count": 25,
   "metadata": {},
   "outputs": [
    {
     "data": {
      "text/plain": [
       "array([ 0.,  2.,  4.,  6.,  8., 10.])"
      ]
     },
     "execution_count": 25,
     "metadata": {},
     "output_type": "execute_result"
    }
   ],
   "source": [
    "np.linspace(0,10,6)\n",
    "\n",
    "#얘는 arange랑 다르게 0, 10 포함. 뜻은 0,10 포함하여 6개로 똑같이 나눠준다"
   ]
  },
  {
   "cell_type": "code",
   "execution_count": 26,
   "metadata": {},
   "outputs": [
    {
     "data": {
      "text/plain": [
       "array([ 0.        ,  1.66666667,  3.33333333,  5.        ,  6.66666667,\n",
       "        8.33333333, 10.        ])"
      ]
     },
     "execution_count": 26,
     "metadata": {},
     "output_type": "execute_result"
    }
   ],
   "source": [
    "np.linspace(0,10,7)"
   ]
  },
  {
   "cell_type": "code",
   "execution_count": 31,
   "metadata": {},
   "outputs": [
    {
     "data": {
      "text/plain": [
       "array([[1, 2],\n",
       "       [3, 4],\n",
       "       [5, 6]])"
      ]
     },
     "execution_count": 31,
     "metadata": {},
     "output_type": "execute_result"
    }
   ],
   "source": [
    "x=np.array([[1,2],[3,4],[5,6]])\n",
    "x"
   ]
  },
  {
   "cell_type": "code",
   "execution_count": 33,
   "metadata": {},
   "outputs": [
    {
     "data": {
      "text/plain": [
       "array([[[ 1,  2],\n",
       "        [ 3,  4],\n",
       "        [ 5,  6]],\n",
       "\n",
       "       [[ 7,  8],\n",
       "        [ 9, 10],\n",
       "        [10, 11]]])"
      ]
     },
     "execution_count": 33,
     "metadata": {},
     "output_type": "execute_result"
    }
   ],
   "source": [
    "#3차원도 표기가 가능함. 2차원은 대괄호가 위처럼 양옆이 2개씩 붙어있음. 3차원은 3개씩.\n",
    "#2차원 행렬이 2개 나오면서 3차원이 됨\n",
    "x=np.array([[[1,2],[3,4],[5,6]],[[7,8],[9,10],[10,11]]])\n",
    "x"
   ]
  },
  {
   "cell_type": "code",
   "execution_count": 34,
   "metadata": {},
   "outputs": [
    {
     "data": {
      "text/plain": [
       "3"
      ]
     },
     "execution_count": 34,
     "metadata": {},
     "output_type": "execute_result"
    }
   ],
   "source": [
    "x.ndim\n",
    "\n",
    "#3차원이라는 것을 알려줌"
   ]
  },
  {
   "cell_type": "code",
   "execution_count": 35,
   "metadata": {},
   "outputs": [
    {
     "data": {
      "text/plain": [
       "(2, 3, 2)"
      ]
     },
     "execution_count": 35,
     "metadata": {},
     "output_type": "execute_result"
    }
   ],
   "source": [
    "x.shape\n",
    "\n",
    "#2 by 3이 2개 있는 행렬이라는 것을 알려줌."
   ]
  },
  {
   "cell_type": "code",
   "execution_count": 36,
   "metadata": {},
   "outputs": [
    {
     "data": {
      "text/plain": [
       "dtype('int32')"
      ]
     },
     "execution_count": 36,
     "metadata": {},
     "output_type": "execute_result"
    }
   ],
   "source": [
    "x.dtype"
   ]
  },
  {
   "cell_type": "code",
   "execution_count": 37,
   "metadata": {},
   "outputs": [
    {
     "data": {
      "text/plain": [
       "array([[[ 1.,  2.],\n",
       "        [ 3.,  4.],\n",
       "        [ 5.,  6.]],\n",
       "\n",
       "       [[ 7.,  8.],\n",
       "        [ 9., 10.],\n",
       "        [10., 11.]]])"
      ]
     },
     "execution_count": 37,
     "metadata": {},
     "output_type": "execute_result"
    }
   ],
   "source": [
    "x.astype(np.float64)\n",
    "\n",
    "#원래는 int32 data type인데 이걸 바꾸고 싶으면 astype함수를 씀"
   ]
  },
  {
   "cell_type": "code",
   "execution_count": 38,
   "metadata": {},
   "outputs": [
    {
     "data": {
      "text/plain": [
       "array([[[0, 0],\n",
       "        [0, 0],\n",
       "        [0, 0]],\n",
       "\n",
       "       [[0, 0],\n",
       "        [0, 0],\n",
       "        [0, 0]]])"
      ]
     },
     "execution_count": 38,
     "metadata": {},
     "output_type": "execute_result"
    }
   ],
   "source": [
    "np.zeros_like(x)\n",
    "\n",
    "#형태를 유지하고 내용물을 0으로 바꾸고 싶을 때: zeros_like함수\n",
    "\n",
    "#근데 이거는 x*0 이렇게 해도 됨"
   ]
  },
  {
   "cell_type": "code",
   "execution_count": 46,
   "metadata": {},
   "outputs": [],
   "source": [
    "#numpy 안의 randaom 패키지 안의 normal이라는 함수\n",
    "#from numpy import random 이런 식으로도 쓸 수 있음?\n",
    "\n",
    "data=np.random.normal(0,1,100)\n",
    "#정규분포 모양의 데이터를 만들어주는 것임!!shape자체를 만들어주는 게 아니라\n",
    "#normal(mean,standard deviation,data size)"
   ]
  },
  {
   "cell_type": "code",
   "execution_count": 52,
   "metadata": {},
   "outputs": [
    {
     "name": "stdout",
     "output_type": "stream",
     "text": [
      "[ 3.63060936e-01  1.35059510e+00 -1.69774164e+00  1.17659235e+00\n",
      " -1.78769805e+00  1.06241620e+00  1.54192449e+00  1.46669699e+00\n",
      "  1.24644612e+00  7.69242158e-02 -1.24694855e+00  8.33691403e-01\n",
      "  1.04258407e+00 -1.32704041e+00  6.29173971e-01  1.04718664e+00\n",
      " -7.65970607e-01  2.86530981e-01  1.19054932e-01 -1.07784016e+00\n",
      " -8.94199958e-01  6.49901006e-01  1.76197161e+00 -4.36495513e-01\n",
      " -3.70826634e-01  1.55891628e+00  4.40085520e-01 -6.37943363e-01\n",
      " -1.69692367e+00  2.25725714e-01  3.33559249e-01 -1.12300244e+00\n",
      " -7.80741626e-02 -3.55030097e-01  1.50290384e+00 -2.38647211e-01\n",
      "  7.45030328e-01 -1.02159190e+00 -1.59934508e-01 -2.07882136e+00\n",
      " -2.96463065e+00 -2.29061691e-01 -6.86188096e-01  2.19355640e-01\n",
      " -8.59042072e-01 -1.48205483e+00 -6.34526172e-01 -6.38682986e-01\n",
      "  2.66886413e-01  1.07529033e+00 -1.25098539e+00  1.21126852e+00\n",
      "  5.09620953e-01 -2.23959680e-01  4.84962773e-04 -1.39548303e-01\n",
      "  7.69765220e-01  3.07169851e-01  4.69766876e-01  9.87958866e-01\n",
      " -6.10237300e-01  1.35692344e+00 -9.30590644e-01 -8.05149605e-01\n",
      "  1.61216304e+00  2.28901358e+00 -1.26711413e-02  1.10467331e+00\n",
      "  2.72245531e-02 -5.98700092e-01 -7.33126279e-01  4.67667632e-01\n",
      " -4.13923265e-01 -1.47370063e+00  6.11363963e-01  1.40975273e+00\n",
      " -2.10468223e-01  1.60103715e+00  1.03748144e+00 -6.51053717e-01\n",
      "  1.02566031e-01 -6.60426972e-01  2.32730873e-01 -1.75804162e+00\n",
      " -1.39429768e+00  1.94102370e-01 -5.22373047e-01 -4.00157565e-01\n",
      "  1.14925350e+00  9.58338616e-01  4.05353737e-01  4.42955391e-01\n",
      " -1.65681006e+00  5.69729267e-01 -1.36151093e+00  8.55821874e-02\n",
      " -1.50443306e+00 -3.81814028e-01  3.04126305e-01 -3.18567207e-01]\n"
     ]
    },
    {
     "data": {
      "image/png": "[encoded data removed]",
      "text/plain": [
       "<Figure size 432x288 with 1 Axes>"
      ]
     },
     "metadata": {
      "needs_background": "light"
     },
     "output_type": "display_data"
    }
   ],
   "source": [
    "data=np.random.normal(0,1,100)\n",
    "print(data)\n",
    "plt.hist(data, bins=10)\n",
    "plt.show()\n",
    "\n",
    "#y축 값은 항상 0과 자연수만 나오고 값 개수하면 100개임"
   ]
  },
  {
   "cell_type": "markdown",
   "metadata": {},
   "source": [
    "2. Manipulation"
   ]
  },
  {
   "cell_type": "code",
   "execution_count": 53,
   "metadata": {},
   "outputs": [
    {
     "data": {
      "text/plain": [
       "array([[[1., 1., 1., 1.],\n",
       "        [1., 1., 1., 1.],\n",
       "        [1., 1., 1., 1.]],\n",
       "\n",
       "       [[1., 1., 1., 1.],\n",
       "        [1., 1., 1., 1.],\n",
       "        [1., 1., 1., 1.]]])"
      ]
     },
     "execution_count": 53,
     "metadata": {},
     "output_type": "execute_result"
    }
   ],
   "source": [
    "x=np.ones([2,3,4])\n",
    "x"
   ]
  },
  {
   "cell_type": "code",
   "execution_count": 54,
   "metadata": {},
   "outputs": [
    {
     "data": {
      "text/plain": [
       "array([[[1., 1.],\n",
       "        [1., 1.],\n",
       "        [1., 1.]],\n",
       "\n",
       "       [[1., 1.],\n",
       "        [1., 1.],\n",
       "        [1., 1.]],\n",
       "\n",
       "       [[1., 1.],\n",
       "        [1., 1.],\n",
       "        [1., 1.]],\n",
       "\n",
       "       [[1., 1.],\n",
       "        [1., 1.],\n",
       "        [1., 1.]]])"
      ]
     },
     "execution_count": 54,
     "metadata": {},
     "output_type": "execute_result"
    }
   ],
   "source": [
    "y=x.reshape(-1,3,2)\n",
    "y\n",
    "\n",
    "#모양을 바꾸고 싶을 때 reshape함수를 사용하고 맨 앞에 쓰여진 -1은 모양 구하기 귀찮을 때 프로그램이 알아서 형식 맞춰서 바꿔라! 이런거임"
   ]
  },
  {
   "cell_type": "code",
   "execution_count": 55,
   "metadata": {},
   "outputs": [
    {
     "data": {
      "text/plain": [
       "True"
      ]
     },
     "execution_count": 55,
     "metadata": {},
     "output_type": "execute_result"
    }
   ],
   "source": [
    "np.allclose(x.reshape(-1,3,2),y)"
   ]
  },
  {
   "cell_type": "markdown",
   "metadata": {},
   "source": [
    "3.Numpy I/O"
   ]
  },
  {
   "cell_type": "code",
   "execution_count": 59,
   "metadata": {},
   "outputs": [],
   "source": [
    "a=np.random.randint(0,10,[2,3])\n",
    "b=np.random.random([2,3])\n",
    "np.savez('test',a,b)\n",
    "\n",
    "#test라고 적으면 파일로 저장됨"
   ]
  },
  {
   "cell_type": "code",
   "execution_count": 58,
   "metadata": {},
   "outputs": [
    {
     "name": "stderr",
     "output_type": "stream",
     "text": [
      "'ls'은(는) 내부 또는 외부 명령, 실행할 수 있는 프로그램, 또는\n",
      "배치 파일이 아닙니다.\n"
     ]
    }
   ],
   "source": [
    "!ls -al test*\n",
    "#위의 파일이 만들어졌는지 확인하는것"
   ]
  },
  {
   "cell_type": "code",
   "execution_count": 60,
   "metadata": {},
   "outputs": [
    {
     "name": "stdout",
     "output_type": "stream",
     "text": [
      "data\t np\t plt\t x\t y\t \n"
     ]
    }
   ],
   "source": [
    "del a,b       #variable이 assign 안 된 상태로 없어짐\n",
    "%who          #지금 available variable"
   ]
  },
  {
   "cell_type": "code",
   "execution_count": 61,
   "metadata": {},
   "outputs": [
    {
     "data": {
      "text/plain": [
       "['arr_0', 'arr_1']"
      ]
     },
     "execution_count": 61,
     "metadata": {},
     "output_type": "execute_result"
    }
   ],
   "source": [
    "npzfiles=np.load('test.npz')     #이러면 불러올 수 있음 앞에 npzfiles는 variable이름이니까 암거나 바꿔도 됨\n",
    "npzfiles.files"
   ]
  },
  {
   "cell_type": "code",
   "execution_count": 62,
   "metadata": {},
   "outputs": [
    {
     "data": {
      "text/plain": [
       "array([[7, 5, 4],\n",
       "       [9, 8, 9]])"
      ]
     },
     "execution_count": 62,
     "metadata": {},
     "output_type": "execute_result"
    }
   ],
   "source": [
    "npzfiles['arr_0']"
   ]
  },
  {
   "cell_type": "code",
   "execution_count": null,
   "metadata": {},
   "outputs": [],
   "source": [
    "data=np.loadtxt('regression.csv', delimiter=',',skiprows=1, dtype={'type':('x':'y'), 'formats'})\n",
    "\n",
    "#skiprows 1번째 줄 뺀다\n",
    "\n",
    "#csv는 comma separated value 컴마로 분류되어 있는 것.\n",
    "#regression file을 깃헙에서 가져와서 해볼 것!!!\n",
    "#그 파일을 다운 받아서 "
   ]
  },
  {
   "cell_type": "markdown",
   "metadata": {},
   "source": [
    "4. Inspecting"
   ]
  },
  {
   "cell_type": "code",
   "execution_count": 77,
   "metadata": {},
   "outputs": [],
   "source": [
    "arr=np.random.random([5,2,3])"
   ]
  },
  {
   "cell_type": "code",
   "execution_count": null,
   "metadata": {},
   "outputs": [],
   "source": []
  },
  {
   "cell_type": "code",
   "execution_count": null,
   "metadata": {},
   "outputs": [],
   "source": []
  },
  {
   "cell_type": "code",
   "execution_count": null,
   "metadata": {},
   "outputs": [],
   "source": []
  },
  {
   "cell_type": "code",
   "execution_count": null,
   "metadata": {},
   "outputs": [],
   "source": []
  },
  {
   "cell_type": "code",
   "execution_count": null,
   "metadata": {},
   "outputs": [],
   "source": []
  }
 ],
 "metadata": {
  "kernelspec": {
   "display_name": "Python 3",
   "language": "python",
   "name": "python3"
  },
  "language_info": {
   "codemirror_mode": {
    "name": "ipython",
    "version": 3
   },
   "file_extension": ".py",
   "mimetype": "text/x-python",
   "name": "python",
   "nbconvert_exporter": "python",
   "pygments_lexer": "ipython3",
   "version": "3.7.3"
  }
 },
 "nbformat": 4,
 "nbformat_minor": 2
}
